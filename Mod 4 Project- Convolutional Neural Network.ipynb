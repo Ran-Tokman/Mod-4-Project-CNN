{
 "cells": [
  {
   "cell_type": "code",
   "execution_count": null,
   "metadata": {},
   "outputs": [],
   "source": [
    "from google_images_download import google_images_download   #importing the library\n",
    "\n",
    "response = google_images_download.googleimagesdownload()   #class instantiation\n",
    "\n",
    "arguments = {\"keywords\":\"dragon ball z anime, dbz anime,goku transparent, vegeta anime,piccolo anime\",\"limit\":100,\"print_urls\":True}   #creating list of arguments\n",
    "paths = response.download(arguments)   #passing the arguments to the function\n",
    "print(paths)   #printing absolute paths of the downloaded images"
   ]
  },
  {
   "cell_type": "code",
   "execution_count": null,
   "metadata": {},
   "outputs": [],
   "source": [
    "import split_folders\n",
    "\n",
    "# Split with a ratio.\n",
    "# To only split into training and validation set, set a tuple to `ratio`, i.e, `(.8, .2)`.\n",
    "split_folders.ratio('downloads', output=\"dataset\", seed=1337, ratio=(.8, .2)) # default values\n",
    "\n",
    "# Split val/test with a fixed number of items e.g. 100 for each set.\n",
    "# To only split into training and validation set, use a single number to `fixed`, i.e., `10`.\n",
    "# split_folders.fixed('downloads', output=\"dataset\", seed=1337, fixed=(100, 100), oversample=False) # default values"
   ]
  },
  {
   "cell_type": "markdown",
   "metadata": {},
   "source": [
    "# Convolutional Neural Network"
   ]
  },
  {
   "cell_type": "markdown",
   "metadata": {},
   "source": [
    "## Part 1 - Building the CNN"
   ]
  },
  {
   "cell_type": "code",
   "execution_count": 62,
   "metadata": {},
   "outputs": [],
   "source": [
    "# Importing the Keras libraries and packages\n",
    "from keras.models import Sequential\n",
    "from keras.layers import Conv2D\n",
    "from keras.layers import MaxPooling2D\n",
    "from keras.layers import Flatten\n",
    "from keras.layers import Dense\n",
    "from keras.layers import Dropout\n",
    "from keras.callbacks import ModelCheckpoint\n",
    "import matplotlib.pyplot as plt"
   ]
  },
  {
   "cell_type": "code",
   "execution_count": 72,
   "metadata": {},
   "outputs": [],
   "source": [
    "# Initialising the CNN\n",
    "classifier = Sequential()"
   ]
  },
  {
   "cell_type": "code",
   "execution_count": 73,
   "metadata": {},
   "outputs": [
    {
     "data": {
      "text/plain": [
       "\"\\n* 32 feature detector-->32 feature maps (size of 5x5). (64 if using a GPU)\\n* feature detector consists of 3 rows and 3 columns.\\n\\n* input_shape= shape of input image (converting all images to fixed size/image format)\\n* since the images are color images, they will be converted into 3-D arrays.\\n* 64x64 format (128 or 256 if using a GPU)\\n\\n* activation function 'relu' is most commonly used for CNN.\\n\""
      ]
     },
     "execution_count": 73,
     "metadata": {},
     "output_type": "execute_result"
    }
   ],
   "source": [
    "# Step 1 - Convolution\n",
    "classifier.add(Conv2D(32, (3, 3), input_shape=(64, 64, 3), activation='relu'))\n",
    "\n",
    "'''\n",
    "* 32 feature detector-->32 feature maps (size of 5x5). (64 if using a GPU)\n",
    "* feature detector consists of 3 rows and 3 columns.\n",
    "\n",
    "* input_shape= shape of input image (converting all images to fixed size/image format)\n",
    "* since the images are color images, they will be converted into 3-D arrays.\n",
    "* 64x64 format (128 or 256 if using a GPU)\n",
    "\n",
    "* activation function 'relu' is most commonly used for CNN.\n",
    "'''"
   ]
  },
  {
   "cell_type": "code",
   "execution_count": 74,
   "metadata": {},
   "outputs": [],
   "source": [
    "# Step 2 - Max Pooling\n",
    "classifier.add(MaxPooling2D(pool_size=(2, 2)))\n",
    "classifier.add(Dropout(0.2))\n",
    "\n",
    "'''reduces the size of our feature maps into 2x2 (reducing the complexity of the model).'''\n",
    "\n",
    "# Adding a second convolutional layer\n",
    "classifier.add(Conv2D(32, (3, 3), activation='relu'))\n",
    "classifier.add(MaxPooling2D(pool_size=(2, 2)))\n",
    "classifier.add(Dropout(0.2))"
   ]
  },
  {
   "cell_type": "code",
   "execution_count": 75,
   "metadata": {},
   "outputs": [],
   "source": [
    "# Step 3 - Flattening\n",
    "classifier.add(Flatten())"
   ]
  },
  {
   "cell_type": "code",
   "execution_count": 76,
   "metadata": {},
   "outputs": [
    {
     "data": {
      "text/plain": [
       "\"\\n* activation function 'sigmoid' because we have a binary outcome. If we have more, need to use 'softmax'.\\n\""
      ]
     },
     "execution_count": 76,
     "metadata": {},
     "output_type": "execute_result"
    }
   ],
   "source": [
    "# Step 4 - Full connection\n",
    "classifier.add(Dense(units=128, activation='relu'))\n",
    "classifier.add(Dropout(0.5))\n",
    "'''\n",
    "* units= number of nodes in the hidden layer(full connection).\n",
    "\n",
    "* 128 is not too small, but it can be higher if using GPU.\n",
    "\n",
    "* activation function 'relu' is most commonly used for CNN.\n",
    "'''\n",
    "\n",
    "# Final output layer\n",
    "classifier.add(Dense(units=1, activation='sigmoid'))\n",
    "\n",
    "'''\n",
    "* activation function 'sigmoid' because we have a binary outcome. If we have more, need to use 'softmax'.\n",
    "'''"
   ]
  },
  {
   "cell_type": "code",
   "execution_count": 77,
   "metadata": {},
   "outputs": [
    {
     "data": {
      "text/plain": [
       "\" \\n* 'adam' is a good stochastic gradient descent optimizer for CNN.\\n\\n* cross entropy loss function is usually used for classifcation problems. Because we have a binary outcome, we\\nuse 'binary_crossentropy'. If we had more we'd need to use 'categorical_crossentropy'.\\n\""
      ]
     },
     "execution_count": 77,
     "metadata": {},
     "output_type": "execute_result"
    }
   ],
   "source": [
    "# Compiling the CNN\n",
    "classifier.compile(\n",
    "    optimizer='adam', loss='binary_crossentropy', metrics=['accuracy'])\n",
    "\n",
    "''' \n",
    "* 'adam' is a good stochastic gradient descent optimizer for CNN.\n",
    "\n",
    "* cross entropy loss function is usually used for classifcation problems. Because we have a binary outcome, we\n",
    "use 'binary_crossentropy'. If we had more we'd need to use 'categorical_crossentropy'.\n",
    "'''"
   ]
  },
  {
   "cell_type": "markdown",
   "metadata": {
    "cell_style": "center"
   },
   "source": [
    "## Part 2 - Fitting the CNN to the images"
   ]
  },
  {
   "cell_type": "markdown",
   "metadata": {},
   "source": [
    "### Image Preprocessing"
   ]
  },
  {
   "cell_type": "code",
   "execution_count": 78,
   "metadata": {},
   "outputs": [
    {
     "name": "stdout",
     "output_type": "stream",
     "text": [
      "Found 647 images belonging to 2 classes.\n",
      "Found 160 images belonging to 2 classes.\n"
     ]
    }
   ],
   "source": [
    "from keras.preprocessing.image import ImageDataGenerator\n",
    "\n",
    "'''\n",
    "* Image Data Generator is the first step the Image Augmentation which will help prevent overfitting\n",
    "(when we have few data points to train our model).\n",
    "\n",
    "* It creates many batches of the images, and for each batch it will apply some random transformations to them so\n",
    "we'll get many more diverse images within these batches.'''\n",
    "\n",
    "\n",
    "train_datagen = ImageDataGenerator(rescale=1./255,\n",
    "                                   shear_range=0.2,\n",
    "                                   zoom_range=0.2,\n",
    "                                   horizontal_flip=True)\n",
    "\n",
    "\n",
    "test_datagen = ImageDataGenerator(rescale=1./255)\n",
    "\n",
    "'''\n",
    "* rescale the images to a standard size\n",
    "* shear_range is a geomatrical transformation of the pixels.\n",
    "* zoom_range is a random zoom we apply to the images.\n",
    "'''\n",
    "\n",
    "training_set = train_datagen.flow_from_directory('dataset/train',\n",
    "                                                 target_size=(64, 64),\n",
    "                                                 batch_size=32,\n",
    "                                                 class_mode='binary')\n",
    "\n",
    "test_set = test_datagen.flow_from_directory('dataset/val',\n",
    "                                            target_size=(64, 64),\n",
    "                                            batch_size=32,\n",
    "                                            class_mode='binary')"
   ]
  },
  {
   "cell_type": "markdown",
   "metadata": {},
   "source": [
    "### Checkpoint"
   ]
  },
  {
   "cell_type": "code",
   "execution_count": 79,
   "metadata": {},
   "outputs": [],
   "source": [
    "# checkpoint\n",
    "filepath=\"weights.best.hdf5\"\n",
    "checkpoint = ModelCheckpoint(filepath, monitor='val_acc', verbose=1, save_best_only=True, mode='max')\n",
    "callbacks_list = [checkpoint]"
   ]
  },
  {
   "cell_type": "markdown",
   "metadata": {},
   "source": [
    "### Fit Generator"
   ]
  },
  {
   "cell_type": "code",
   "execution_count": 80,
   "metadata": {},
   "outputs": [
    {
     "name": "stdout",
     "output_type": "stream",
     "text": [
      "Epoch 1/5\n",
      "647/647 [==============================] - 731s 1s/step - loss: 0.3237 - acc: 0.8553 - val_loss: 0.3669 - val_acc: 0.8250\n",
      "\n",
      "Epoch 00001: val_acc improved from -inf to 0.82500, saving model to weights.best.hdf5\n",
      "Epoch 2/5\n",
      "647/647 [==============================] - 720s 1s/step - loss: 0.1159 - acc: 0.9558 - val_loss: 0.4287 - val_acc: 0.8500\n",
      "\n",
      "Epoch 00002: val_acc improved from 0.82500 to 0.85000, saving model to weights.best.hdf5\n",
      "Epoch 3/5\n",
      "647/647 [==============================] - 720s 1s/step - loss: 0.0582 - acc: 0.9802 - val_loss: 0.5397 - val_acc: 0.8750\n",
      "\n",
      "Epoch 00003: val_acc improved from 0.85000 to 0.87500, saving model to weights.best.hdf5\n",
      "Epoch 4/5\n",
      "647/647 [==============================] - 721s 1s/step - loss: 0.0371 - acc: 0.9883 - val_loss: 0.6324 - val_acc: 0.8438\n",
      "\n",
      "Epoch 00004: val_acc did not improve from 0.87500\n",
      "Epoch 5/5\n",
      "647/647 [==============================] - 725s 1s/step - loss: 0.0203 - acc: 0.9938 - val_loss: 0.8014 - val_acc: 0.8375\n",
      "\n",
      "Epoch 00005: val_acc did not improve from 0.87500\n"
     ]
    },
    {
     "data": {
      "text/plain": [
       "'\\n* steps_per epoch should equal the number of images in the training set.\\n* can use more than 25 epochs if using a GPU.\\n* validation_steps should equal the number of images in the testing set.\\n'"
      ]
     },
     "execution_count": 80,
     "metadata": {},
     "output_type": "execute_result"
    }
   ],
   "source": [
    "results=classifier.fit_generator(training_set,\n",
    "                         steps_per_epoch=647,\n",
    "                         epochs=5,\n",
    "                         validation_data=test_set,\n",
    "                         callbacks=callbacks_list,\n",
    "                         validation_steps=160)\n",
    "\n",
    "'''\n",
    "* steps_per epoch should equal the number of images in the training set.\n",
    "* can use more than 25 epochs if using a GPU.\n",
    "* validation_steps should equal the number of images in the testing set.\n",
    "'''"
   ]
  },
  {
   "cell_type": "code",
   "execution_count": 81,
   "metadata": {},
   "outputs": [
    {
     "data": {
      "image/png": "[encoded data removed]",
      "text/plain": [
       "<Figure size 1080x288 with 2 Axes>"
      ]
     },
     "metadata": {
      "needs_background": "light"
     },
     "output_type": "display_data"
    }
   ],
   "source": [
    "hist = results.history\n",
    "loss_values = hist['loss']\n",
    "val_loss_values = hist['val_loss']\n",
    "acc_values = hist['acc'] \n",
    "val_acc_values = hist['val_acc']\n",
    "\n",
    "epochs = range(1, len(loss_values) + 1)\n",
    "\n",
    "plt.figure(figsize=(15,4))\n",
    "plt.subplot(121)\n",
    "plt.plot(epochs, loss_values, 'g.', label='Training loss')\n",
    "plt.plot(epochs, val_loss_values, 'g', label='Validation loss')\n",
    "\n",
    "plt.title('Training and validation loss')\n",
    "plt.xlabel('Epochs')\n",
    "plt.ylabel('Loss')\n",
    "plt.legend()\n",
    "\n",
    "plt.subplot(122)\n",
    "plt.plot(epochs, acc_values, 'r.', label='Training acc')\n",
    "plt.plot(epochs, val_acc_values, 'r', label='Validation acc')\n",
    "plt.title('Training and validation accuracy')\n",
    "plt.xlabel('Epochs')\n",
    "plt.ylabel('Accuracy')\n",
    "plt.legend()\n",
    "plt.show()"
   ]
  },
  {
   "cell_type": "code",
   "execution_count": 82,
   "metadata": {},
   "outputs": [],
   "source": [
    "classifier.save('model2.h5')"
   ]
  },
  {
   "cell_type": "code",
   "execution_count": 85,
   "metadata": {},
   "outputs": [],
   "source": [
    "from keras.models import load_model\n",
    "model2 = load_model('Models/model2.h5')\n",
    "model2.load_weights('Models/model2_weights.best.hdf5')"
   ]
  },
  {
   "cell_type": "code",
   "execution_count": 86,
   "metadata": {},
   "outputs": [
    {
     "data": {
      "text/plain": [
       "[0.5368599732406437, 0.875]"
      ]
     },
     "execution_count": 86,
     "metadata": {},
     "output_type": "execute_result"
    }
   ],
   "source": [
    "model2.evaluate_generator(generator=test_set,\n",
    "steps=160)"
   ]
  },
  {
   "cell_type": "code",
   "execution_count": null,
   "metadata": {},
   "outputs": [],
   "source": []
  }
 ],
 "metadata": {
  "kernelspec": {
   "display_name": "Python 3",
   "language": "python",
   "name": "python3"
  },
  "language_info": {
   "codemirror_mode": {
    "name": "ipython",
    "version": 3
   },
   "file_extension": ".py",
   "mimetype": "text/x-python",
   "name": "python",
   "nbconvert_exporter": "python",
   "pygments_lexer": "ipython3",
   "version": "3.7.2"
  },
  "toc": {
   "base_numbering": 1,
   "nav_menu": {},
   "number_sections": true,
   "sideBar": true,
   "skip_h1_title": false,
   "title_cell": "Table of Contents",
   "title_sidebar": "Contents",
   "toc_cell": false,
   "toc_position": {},
   "toc_section_display": true,
   "toc_window_display": false
  },
  "varInspector": {
   "cols": {
    "lenName": 16,
    "lenType": 16,
    "lenVar": 40
   },
   "kernels_config": {
    "python": {
     "delete_cmd_postfix": "",
     "delete_cmd_prefix": "del ",
     "library": "var_list.py",
     "varRefreshCmd": "print(var_dic_list())"
    },
    "r": {
     "delete_cmd_postfix": ") ",
     "delete_cmd_prefix": "rm(",
     "library": "var_list.r",
     "varRefreshCmd": "cat(var_dic_list()) "
    }
   },
   "types_to_exclude": [
    "module",
    "function",
    "builtin_function_or_method",
    "instance",
    "_Feature"
   ],
   "window_display": false
  }
 },
 "nbformat": 4,
 "nbformat_minor": 2
}
